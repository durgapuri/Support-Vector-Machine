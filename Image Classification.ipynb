{
 "cells": [
  {
   "cell_type": "code",
   "execution_count": 127,
   "metadata": {},
   "outputs": [],
   "source": [
    "import pickle\n",
    "import numpy as np\n",
    "from sklearn.preprocessing import normalize\n",
    "from sklearn.decomposition import PCA\n",
    "import pandas as pd\n",
    "from sklearn.svm import SVC\n",
    "from sklearn.metrics import accuracy_score\n",
    "from sklearn.svm import LinearSVC\n",
    "from matplotlib.axes._axes import _log as matplotlib_axes_logger\n",
    "matplotlib_axes_logger.setLevel('ERROR')\n",
    "import matplotlib.pyplot as plt \n",
    "from sklearn.metrics import f1_score\n",
    "from sklearn.metrics import confusion_matrix\n",
    "from sklearn.metrics import classification_report"
   ]
  },
  {
   "cell_type": "code",
   "execution_count": 114,
   "metadata": {},
   "outputs": [],
   "source": [
    "def load(name):\n",
    "    file = open(name,'rb')\n",
    "    data = pickle.load(file, encoding = 'bytes')\n",
    "    file.close()\n",
    "    return data\n",
    "\n",
    "\n",
    "def open_and_merge_files(file1, file2 ,file3, file4, file5):\n",
    "    train_labels = []\n",
    "    data1 = load(file1)\n",
    "    train_labels1 = np.asarray(data1[b'labels'])\n",
    "    train_data1 = np.array(data1[b'data'])\n",
    "    data2 = load(file2)\n",
    "    train_labels2 = np.asarray(data2[b'labels'])\n",
    "    train_data2 = np.array(data2[b'data'])\n",
    "    data3 = load(file3)\n",
    "    train_labels3 = np.asarray(data3[b'labels'])\n",
    "    train_data3 = np.array(data3[b'data'])\n",
    "    data4 = load(file4)\n",
    "    train_labels4 = np.asarray(data4[b'labels'])\n",
    "    train_data4 = np.array(data4[b'data'])\n",
    "    data5 = load(file5)\n",
    "    train_labels5 = np.asarray(data5[b'labels'])\n",
    "    train_data5 = np.array(data5[b'data'])\n",
    "    train_data = np.vstack((train_data1, train_data2, train_data3, train_data4, train_data5))\n",
    "    train_labels = np.concatenate((train_labels1, train_labels2, train_labels3, train_labels4, train_labels5), axis=0)\n",
    "    return train_labels, train_data\n",
    "\n",
    "\n",
    "train_labels, train_data = open_and_merge_files(\"/home/jyoti/Documents/SMAI/assign2/Q1/cifar-10-python/cifar-10-batches-py/data_batch_1\",\n",
    "                           \"/home/jyoti/Documents/SMAI/assign2/Q1/cifar-10-python/cifar-10-batches-py/data_batch_2\",\n",
    "                           \"/home/jyoti/Documents/SMAI/assign2/Q1/cifar-10-python/cifar-10-batches-py/data_batch_3\",\n",
    "                           \"/home/jyoti/Documents/SMAI/assign2/Q1/cifar-10-python/cifar-10-batches-py/data_batch_4\",\n",
    "                           \"/home/jyoti/Documents/SMAI/assign2/Q1/cifar-10-python/cifar-10-batches-py/data_batch_5\")\n"
   ]
  },
  {
   "cell_type": "markdown",
   "metadata": {},
   "source": [
    "### Preprocessing Data - Normalizing Data"
   ]
  },
  {
   "cell_type": "code",
   "execution_count": 115,
   "metadata": {},
   "outputs": [],
   "source": [
    "def normalize_data(train_data):\n",
    "    normalized_train_data = normalize(train_data)\n",
    "    return normalized_train_data\n",
    "\n",
    "train_data = normalize_data(train_data)"
   ]
  },
  {
   "cell_type": "markdown",
   "metadata": {},
   "source": [
    "### Preprocessing Data - PCA"
   ]
  },
  {
   "cell_type": "code",
   "execution_count": 116,
   "metadata": {},
   "outputs": [],
   "source": [
    "def prepare_data_pca(train_data):\n",
    "    pca_comp_num = PCA(n_components=100)\n",
    "    pca_comp = pca_comp_num.fit_transform(train_data)\n",
    "    data_frm_pca = pd.DataFrame(data = pca_comp)\n",
    "    return data_frm_pca\n",
    "\n",
    "train_data = prepare_data_pca(train_data)\n"
   ]
  },
  {
   "cell_type": "markdown",
   "metadata": {},
   "source": [
    "### Split Train Data and Validation "
   ]
  },
  {
   "cell_type": "code",
   "execution_count": 117,
   "metadata": {},
   "outputs": [],
   "source": [
    "def train_validation_split(train_data, train_labels,validation_data_size):\n",
    "       \n",
    "        if isinstance(validation_data_size, float):\n",
    "            validation_data_size=round(validation_data_size * len(train_data))\n",
    "        n = len(train_data) - validation_data_size\n",
    "\n",
    "        train_data_frm = train_data[:n]\n",
    "        train_labels_rtn = train_labels[:n]\n",
    "        validation_data_frm = train_data[n:]\n",
    "        validation_labels = train_labels[n:]\n",
    "        return train_data_frm, train_labels_rtn, validation_data_frm, validation_labels\n",
    "\n",
    "train_data_frm, train_labels, validation_data_frm, validation_labels = train_validation_split(train_data, train_labels, validation_data_size=0.1)\n"
   ]
  },
  {
   "cell_type": "markdown",
   "metadata": {},
   "source": [
    "### SVM"
   ]
  },
  {
   "cell_type": "code",
   "execution_count": 124,
   "metadata": {},
   "outputs": [],
   "source": [
    "C_list = [1, 10,25, 50, 100]\n",
    "acc_list = []\n",
    "def run_svm(train_data, train_labels, validation_data, validation_labels):\n",
    "        \n",
    "#         for i in C_list:\n",
    "        \n",
    "#             obj = LinearSVC(C=i, multi_class='ovr')\n",
    "            obj = LinearSVC(C=1, multi_class='ovr')\n",
    "            obj.fit(train_data, train_labels)\n",
    "            predict_values = obj.predict(validation_data)\n",
    "#             acc_list.append(accuracy_score(predict_values, validation_labels))\n",
    "            return predict_values\n",
    "    \n",
    "predict_values = run_svm(train_data_frm, train_labels, validation_data_frm, validation_labels)"
   ]
  },
  {
   "cell_type": "markdown",
   "metadata": {},
   "source": [
    "### Plot C vs Accuracy Score"
   ]
  },
  {
   "cell_type": "code",
   "execution_count": 122,
   "metadata": {},
   "outputs": [
    {
     "data": {
      "image/png": "[encoded data removed]",
      "text/plain": [
       "<Figure size 432x288 with 1 Axes>"
      ]
     },
     "metadata": {
      "needs_background": "light"
     },
     "output_type": "display_data"
    }
   ],
   "source": [
    "plt.plot(C_list, acc_list) \n",
    "plt.xlabel('C') \n",
    "plt.ylabel('Accuracy Score') \n",
    "plt.title('C vs Accuracy Score') \n",
    "plt.show()"
   ]
  },
  {
   "cell_type": "markdown",
   "metadata": {},
   "source": [
    "## Performance Metrics"
   ]
  },
  {
   "cell_type": "markdown",
   "metadata": {},
   "source": [
    "### 1. Accuracy Score"
   ]
  },
  {
   "cell_type": "code",
   "execution_count": 128,
   "metadata": {},
   "outputs": [
    {
     "name": "stdout",
     "output_type": "stream",
     "text": [
      "Accuracy Score =  0.3912\n"
     ]
    }
   ],
   "source": [
    "print(\"Accuracy Score = \", accuracy_score(validation_labels,predict_values))"
   ]
  },
  {
   "cell_type": "markdown",
   "metadata": {},
   "source": [
    "### 2. F1 Score"
   ]
  },
  {
   "cell_type": "code",
   "execution_count": 129,
   "metadata": {},
   "outputs": [
    {
     "name": "stdout",
     "output_type": "stream",
     "text": [
      "F1 Score =  0.3912\n"
     ]
    }
   ],
   "source": [
    "print(\"F1 Score = \", f1_score(validation_labels,predict_values, average='micro', zero_division='warn'))"
   ]
  },
  {
   "cell_type": "markdown",
   "metadata": {},
   "source": [
    "### 3. Confusion Matrix"
   ]
  },
  {
   "cell_type": "code",
   "execution_count": 130,
   "metadata": {},
   "outputs": [
    {
     "name": "stdout",
     "output_type": "stream",
     "text": [
      "[[233  25  11   7  16   8  14  25 116  38]\n",
      " [ 33 250   6   7   6  12  23  29  45  77]\n",
      " [ 71  28  78  13  62  39  89  37  46  16]\n",
      " [ 46  50  17 102  24  82  85  29  49  35]\n",
      " [ 45  22  39  13 144  28  94  48  20  22]\n",
      " [ 33  41  25  74  37 143  73  48  35  20]\n",
      " [ 20  26  22  20  49  24 265  14  21  27]\n",
      " [ 28  38  15  23  64  30  34 179  14  60]\n",
      " [ 81  42   3   3   4  10   5   8 320  56]\n",
      " [ 34 100   4  11   7   8  20  26  60 242]]\n"
     ]
    }
   ],
   "source": [
    "print(confusion_matrix(validation_labels, predict_values))"
   ]
  },
  {
   "cell_type": "markdown",
   "metadata": {},
   "source": [
    "### 4. Classification Report"
   ]
  },
  {
   "cell_type": "code",
   "execution_count": 131,
   "metadata": {},
   "outputs": [
    {
     "name": "stdout",
     "output_type": "stream",
     "text": [
      "              precision    recall  f1-score   support\n",
      "\n",
      "           0       0.37      0.47      0.42       493\n",
      "           1       0.40      0.51      0.45       488\n",
      "           2       0.35      0.16      0.22       479\n",
      "           3       0.37      0.20      0.26       519\n",
      "           4       0.35      0.30      0.32       475\n",
      "           5       0.37      0.27      0.31       529\n",
      "           6       0.38      0.54      0.45       488\n",
      "           7       0.40      0.37      0.39       485\n",
      "           8       0.44      0.60      0.51       532\n",
      "           9       0.41      0.47      0.44       512\n",
      "\n",
      "    accuracy                           0.39      5000\n",
      "   macro avg       0.39      0.39      0.38      5000\n",
      "weighted avg       0.39      0.39      0.38      5000\n",
      "\n"
     ]
    }
   ],
   "source": [
    "print(classification_report(validation_labels, predict_values))"
   ]
  },
  {
   "cell_type": "code",
   "execution_count": null,
   "metadata": {},
   "outputs": [],
   "source": []
  }
 ],
 "metadata": {
  "kernelspec": {
   "display_name": "Python 3",
   "language": "python",
   "name": "python3"
  },
  "language_info": {
   "codemirror_mode": {
    "name": "ipython",
    "version": 3
   },
   "file_extension": ".py",
   "mimetype": "text/x-python",
   "name": "python",
   "nbconvert_exporter": "python",
   "pygments_lexer": "ipython3",
   "version": "3.7.5"
  }
 },
 "nbformat": 4,
 "nbformat_minor": 2
}
