{
 "cells": [
  {
   "cell_type": "code",
   "execution_count": 262,
   "metadata": {},
   "outputs": [
    {
     "name": "stderr",
     "output_type": "stream",
     "text": [
      "[nltk_data] Downloading package stopwords to /home/jyoti/nltk_data...\n",
      "[nltk_data]   Package stopwords is already up-to-date!\n",
      "[nltk_data] Downloading package punkt to /home/jyoti/nltk_data...\n",
      "[nltk_data]   Package punkt is already up-to-date!\n"
     ]
    }
   ],
   "source": [
    "import numpy as np\n",
    "import pandas as pd\n",
    "import string\n",
    "import re\n",
    "import nltk\n",
    "import random\n",
    "from sklearn.svm import SVC\n",
    "nltk.download('stopwords')\n",
    "nltk.download('punkt')\n",
    "from nltk.corpus import stopwords\n",
    "from sklearn.feature_extraction.text import TfidfVectorizer\n",
    "from sklearn.metrics import accuracy_score\n",
    "# from sklearn.metrics import f1_score\n",
    "from nltk.tokenize import word_tokenize\n",
    "import matplotlib.pyplot as plt \n",
    "from sklearn.metrics import confusion_matrix\n",
    "from sklearn.metrics import classification_report"
   ]
  },
  {
   "cell_type": "code",
   "execution_count": 221,
   "metadata": {},
   "outputs": [],
   "source": [
    "C_list = [1, 10, 25, 50]\n",
    "acc_list = []"
   ]
  },
  {
   "cell_type": "code",
   "execution_count": 241,
   "metadata": {},
   "outputs": [],
   "source": [
    "kernel_acc_list = []"
   ]
  },
  {
   "cell_type": "code",
   "execution_count": 257,
   "metadata": {},
   "outputs": [],
   "source": [
    "\n",
    "class AuthorClassifier:\n",
    "    \n",
    "    vectorize = None\n",
    "    vectorized_train_data = None\n",
    "    train_data_labels = None\n",
    "    \n",
    "    def preprocess_data(self,train_data_frm):\n",
    "        \n",
    "        ''' dropping first column of indices'''\n",
    "        train_data_frm = train_data_frm.drop(train_data_frm.columns[0], axis='columns')\n",
    "        \n",
    "        rows,cols = train_data_frm.shape\n",
    "               \n",
    "        ''' removing punctuations'''\n",
    "        for i, rows in train_data_frm.iterrows():\n",
    "            val = train_data_frm.iat[i,0]\n",
    "            fval = val.translate(val.maketrans('','', string.punctuation))\n",
    "            train_data_frm.at[i, 'text'] = fval\n",
    "            \n",
    "        ''' removing numbers'''\n",
    "        for i, rows in train_data_frm.iterrows():\n",
    "            val = train_data_frm.iat[i,0]\n",
    "            fval = re.sub(r'\\d+', '', val)\n",
    "            train_data_frm.at[i, 'text'] = fval\n",
    "            \n",
    "        ''' converting to lowercase'''\n",
    "        for i, rows in train_data_frm.iterrows():\n",
    "            val = train_data_frm.iat[i,0]\n",
    "            fval = val.lower()\n",
    "            train_data_frm.at[i, 'text'] = fval\n",
    "            \n",
    "        '''removing stop words'''\n",
    "        stop_words = set(stopwords.words('english'))\n",
    "        for i, rows in train_data_frm.iterrows():\n",
    "            val = train_data_frm.iat[i,0]\n",
    "            tokens = word_tokenize(val)\n",
    "            fval = [i for i in tokens if not i in stop_words]\n",
    "            ffval = \" \"\n",
    "            train_data_frm.at[i, 'text'] = ffval.join(fval)\n",
    "            \n",
    "        '''removing whitespaces'''\n",
    "        for i, rows in train_data_frm.iterrows():\n",
    "            val = train_data_frm.iat[i,0]\n",
    "            train_data_frm.at[i, 'text'] = val.strip()\n",
    "                                  \n",
    "        return train_data_frm\n",
    "    \n",
    "    def train_validation_split(self,data_frm,validation_data_size):\n",
    "       \n",
    "        if isinstance(validation_data_size, float):\n",
    "            validation_data_size=round(validation_data_size * len(data_frm))\n",
    "        indices=data_frm.index.tolist()\n",
    "        valid_indices=random.sample(indices, validation_data_size)\n",
    "        valid_datafrm=data_frm.loc[valid_indices]\n",
    "        train_datafrm=data_frm.drop(valid_indices)\n",
    "        return train_datafrm, valid_datafrm\n",
    "    \n",
    "    \n",
    "    def prepare_data(self,data_frm):\n",
    "        data_labels = data_frm.iloc[:,-1]\n",
    "        data_frm = data_frm.iloc[:,:-1]\n",
    "        return data_frm, data_labels\n",
    "    \n",
    "    \n",
    "    def run_svm(self, vectorized_validation_data, validation_data_labels):\n",
    "        \n",
    "#         for i in C_list:\n",
    "        obj = SVC(kernel='linear', decision_function_shape='ovr', C=10)\n",
    "\n",
    "#         obj = SVC(kernel='poly', degree = 4, C = 10)\n",
    "        \n",
    "#         ''' kernel rbf'''\n",
    "#         obj = SVC(kernel='rbf', C = 10)\n",
    "        \n",
    "#         ''' kernel sigmoid'''\n",
    "#         obj = SVC(kernel='sigmoid', C = 10)\n",
    "\n",
    "        obj.fit(self.vectorized_train_data, self.train_data_labels)\n",
    "        predict_values = obj.predict(vectorized_validation_data)\n",
    "#         kernel_acc_list.append(accuracy_score(validation_data_labels, predict_values))\n",
    "#         acc_list.append(accuracy_score(validation_data_labels, predict_values))\n",
    "#         print(predict_values)\n",
    "#         print(validation_data_labels)\n",
    "#         print(accuracy_score(predict_values, validation_data_labels))\n",
    "        return predict_values\n",
    "\n",
    "    \n",
    "    \n",
    "    def check_validation_data(self,train_data_frm, validation_data_frm):\n",
    "        validation_data_frm, validation_data_labels = self.prepare_data(validation_data_frm)\n",
    "        validation_data = validation_data_frm.values.flatten()\n",
    "        vectorized_validation_data = self.vectorize.transform(validation_data)\n",
    "#         print(vectorized_validation_data)\n",
    "        validation_data_labels = validation_data_labels.values.flatten()\n",
    "        self.train_data_labels = self.train_data_labels.values.flatten()\n",
    "        predict_values = self.run_svm(vectorized_validation_data, validation_data_labels)\n",
    "#         predict_values = self.run_svm(vectorized_validation_data, validation_data_labels)\n",
    "        return predict_values, validation_data_labels\n",
    "#         print(vectorized_validation_data.shape)\n",
    "        \n",
    "    \n",
    "    def train(self,train_path):\n",
    "        train_data_frm = pd.read_csv(train_path)\n",
    "        train_data_frm = self.preprocess_data(train_data_frm)\n",
    "        \n",
    "        random.seed(0)\n",
    "        train_data_frm, validation_data_frm = self.train_validation_split(train_data_frm, validation_data_size = 0.3)\n",
    "        train_data_frm, self.train_data_labels = self.prepare_data(train_data_frm)\n",
    "        self.vectorize = TfidfVectorizer()\n",
    "        train_data_frm = train_data_frm.values.flatten()\n",
    "        self.vectorized_train_data = self.vectorize.fit_transform(train_data_frm)\n",
    "#         self.check_validation_data(train_data_frm, validation_data_frm)\n",
    "        predict_values, actual_values = self.check_validation_data(train_data_frm, validation_data_frm)\n",
    "        return predict_values, actual_values\n",
    "        \n",
    "    def predict(self, test_path):\n",
    "        test_data_frm = pd.read_csv(test_path)\n",
    "        test_data_frm = self.preprocess_data(test_data_frm)\n",
    "        test_data_frm = test_data_frm.values.flatten()\n",
    "        vectorized_test_data = self.vectorize.transform(test_data_frm)\n",
    "        ''' kernel linear function '''\n",
    "        obj = SVC(kernel='linear', decision_function_shape='ovr', C=10)\n",
    "        \n",
    "#         ''' kernel poly'''\n",
    "#         obj = SVC(kernel='poly', degree = 4, C = 10)\n",
    "        \n",
    "#         ''' kernel rbf'''\n",
    "#         obj = SVC(kernel='rbf', C = 10)\n",
    "        \n",
    "#         ''' kernel sigmoid'''\n",
    "#         obj = SVC(kernel='sigmoid', C = 100)\n",
    "        \n",
    "        obj.fit(self.vectorized_train_data, self.train_data_labels)\n",
    "        predict_values = obj.predict(vectorized_test_data)\n",
    "        return predict_values\n",
    "        \n",
    "        \n",
    "        \n"
   ]
  },
  {
   "cell_type": "code",
   "execution_count": 258,
   "metadata": {},
   "outputs": [
    {
     "name": "stdout",
     "output_type": "stream",
     "text": [
      "['MWS' 'EAP' 'HPL' ... 'MWS' 'MWS' 'EAP']\n",
      "['MWS' 'HPL' 'EAP' ... 'EAP' 'MWS' 'EAP']\n"
     ]
    }
   ],
   "source": [
    "auth_classifier = AuthorClassifier()\n",
    "predict_values, actual_values = auth_classifier.train('/home/jyoti/Documents/SMAI/assign2/Q5/Question-5/Train.csv')\n",
    "# print(kernel_acc_list)\n",
    "print(predict_values)\n",
    "print(actual_values)\n",
    "\n",
    "# predictions = auth_classifier.predict('/home/jyoti/Documents/SMAI/assign2/Q5/Question-5/Test.csv')\n",
    "# print(predictions)"
   ]
  },
  {
   "cell_type": "markdown",
   "metadata": {},
   "source": [
    "## Plot C vs Accuracy Score"
   ]
  },
  {
   "cell_type": "code",
   "execution_count": 229,
   "metadata": {},
   "outputs": [
    {
     "data": {
      "image/png": "[encoded data removed]",
      "text/plain": [
       "<Figure size 432x288 with 1 Axes>"
      ]
     },
     "metadata": {
      "needs_background": "light"
     },
     "output_type": "display_data"
    }
   ],
   "source": [
    "plt.plot(C_list, acc_list) \n",
    "plt.xlabel('C') \n",
    "plt.ylabel('Accuracy Score') \n",
    "plt.title('C vs Accuracy Score') \n",
    "plt.show()"
   ]
  },
  {
   "cell_type": "markdown",
   "metadata": {},
   "source": [
    "## Plot Kernel vs Accuracy Score"
   ]
  },
  {
   "cell_type": "code",
   "execution_count": 254,
   "metadata": {},
   "outputs": [
    {
     "data": {
      "image/png": "[encoded data removed]",
      "text/plain": [
       "<Figure size 432x288 with 1 Axes>"
      ]
     },
     "metadata": {
      "needs_background": "light"
     },
     "output_type": "display_data"
    }
   ],
   "source": [
    "kernel_list = ['linear', 'poly', 'rbf', 'sigmoid']\n",
    "plt.plot(kernel_list,kernel_acc_list) \n",
    "plt.xlabel('Kernels') \n",
    "plt.ylabel('Accuracy Score') \n",
    "plt.title('Kernels vs Accuracy Score') \n",
    "plt.show()"
   ]
  },
  {
   "cell_type": "markdown",
   "metadata": {},
   "source": [
    "## Performance Metrics"
   ]
  },
  {
   "cell_type": "markdown",
   "metadata": {},
   "source": [
    "### 1. Accuracy Score"
   ]
  },
  {
   "cell_type": "code",
   "execution_count": 259,
   "metadata": {},
   "outputs": [
    {
     "name": "stdout",
     "output_type": "stream",
     "text": [
      "Accuracy Score =  0.7548414556288572\n"
     ]
    }
   ],
   "source": [
    "print(\"Accuracy Score = \", accuracy_score(actual_values, predict_values))"
   ]
  },
  {
   "cell_type": "markdown",
   "metadata": {},
   "source": [
    "### 2. F1 Score"
   ]
  },
  {
   "cell_type": "code",
   "execution_count": 260,
   "metadata": {},
   "outputs": [
    {
     "name": "stdout",
     "output_type": "stream",
     "text": [
      "F1 Score =  0.7548414556288572\n"
     ]
    }
   ],
   "source": [
    "print(\"F1 Score = \", f1_score(actual_values, predict_values, average='micro', zero_division='warn'))"
   ]
  },
  {
   "cell_type": "markdown",
   "metadata": {},
   "source": [
    "### 3. Confusion Matrix"
   ]
  },
  {
   "cell_type": "code",
   "execution_count": 263,
   "metadata": {},
   "outputs": [
    {
     "name": "stdout",
     "output_type": "stream",
     "text": [
      "[[1492  165  215]\n",
      " [ 277  960  102]\n",
      " [ 298   95 1095]]\n"
     ]
    }
   ],
   "source": [
    "print(confusion_matrix(actual_values, predict_values))"
   ]
  },
  {
   "cell_type": "markdown",
   "metadata": {},
   "source": [
    "### 4. Classification Report"
   ]
  },
  {
   "cell_type": "code",
   "execution_count": 264,
   "metadata": {},
   "outputs": [
    {
     "name": "stdout",
     "output_type": "stream",
     "text": [
      "              precision    recall  f1-score   support\n",
      "\n",
      "         EAP       0.72      0.80      0.76      1872\n",
      "         HPL       0.79      0.72      0.75      1339\n",
      "         MWS       0.78      0.74      0.76      1488\n",
      "\n",
      "    accuracy                           0.75      4699\n",
      "   macro avg       0.76      0.75      0.75      4699\n",
      "weighted avg       0.76      0.75      0.75      4699\n",
      "\n"
     ]
    }
   ],
   "source": [
    "print(classification_report(actual_values, predict_values))"
   ]
  },
  {
   "cell_type": "code",
   "execution_count": null,
   "metadata": {},
   "outputs": [],
   "source": []
  }
 ],
 "metadata": {
  "kernelspec": {
   "display_name": "Python 3",
   "language": "python",
   "name": "python3"
  },
  "language_info": {
   "codemirror_mode": {
    "name": "ipython",
    "version": 3
   },
   "file_extension": ".py",
   "mimetype": "text/x-python",
   "name": "python",
   "nbconvert_exporter": "python",
   "pygments_lexer": "ipython3",
   "version": "3.7.5"
  }
 },
 "nbformat": 4,
 "nbformat_minor": 2
}
